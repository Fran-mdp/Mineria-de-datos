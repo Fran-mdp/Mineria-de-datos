{
 "cells": [
  {
   "cell_type": "markdown",
   "metadata": {},
   "source": [
    "4. Estrellas\n",
    "El archivo estrellas2023.csv contiene información sobre estrellas de una zona del espacio previamente inexplorada. Utilizando este archivo, realice las siguientes operaciones. Incluya en su respuesta los cálculos realizados."
   ]
  },
  {
   "cell_type": "markdown",
   "metadata": {},
   "source": [
    "Carga del archivo"
   ]
  },
  {
   "cell_type": "code",
   "execution_count": 2,
   "metadata": {},
   "outputs": [],
   "source": [
    "import pandas as pd\n",
    "import numpy as np\n",
    "import matplotlib.pyplot as plt\n",
    "import seaborn as sns\n",
    "from tabulate import tabulate"
   ]
  },
  {
   "cell_type": "code",
   "execution_count": 3,
   "metadata": {},
   "outputs": [
    {
     "name": "stdout",
     "output_type": "stream",
     "text": [
      "    Edad  Temperatura   clase \n",
      "0     10         6200        0\n",
      "1     14         3000        0\n",
      "2   -155         6600        0\n",
      "3    -60         3450        0\n",
      "4    120         6100        0\n",
      "5   -300         2500        0\n",
      "6     16         1400        1\n",
      "7    -10         2300        1\n",
      "8    -32         1900        1\n",
      "9      2         6600        1\n",
      "10    -1         3000        1\n",
      "11    -7         7500        1\n",
      "12   -25         1500        1\n"
     ]
    }
   ],
   "source": [
    "Datos_dir=\"../../Datos/\"\n",
    "Estrellas=pd.read_csv(Datos_dir+\"estrellas2023.csv\")\n",
    "pd.set_option(\"display.max_rows\", None)\n",
    "print(Estrellas)\n"
   ]
  },
  {
   "cell_type": "code",
   "execution_count": 4,
   "metadata": {},
   "outputs": [],
   "source": [
    "# Asegurar que la columna \"Edad\" sea numérica\n",
    "Estrellas[\"Edad\"] = pd.to_numeric(Estrellas[\"Edad\"], errors=\"coerce\")"
   ]
  },
  {
   "cell_type": "markdown",
   "metadata": {},
   "source": [
    "A. Discretice por frecuencia el atributo Edad en dos intervalos llamados Baja y Alta. Indique los rangos de los dos intervalos resultantes, así como la cantidad de ejemplos que hay en cada intervalo."
   ]
  },
  {
   "cell_type": "code",
   "execution_count": 5,
   "metadata": {},
   "outputs": [
    {
     "name": "stdout",
     "output_type": "stream",
     "text": [
      "\n",
      "===== Resultados de la Discretización =====\n",
      "\n",
      "+------------+------------+-----------+\n",
      "|            | Baja       | Alta      |\n",
      "+============+============+===========+\n",
      "| Intervalos | (-300; -7] | (-1; 120] |\n",
      "+------------+------------+-----------+\n",
      "| Valores    | 7          | 6         |\n",
      "+------------+------------+-----------+ \n",
      "\n"
     ]
    },
    {
     "name": "stderr",
     "output_type": "stream",
     "text": [
      "/var/folders/ts/6twr910d08vcwqqv_d3y4j_00000gn/T/ipykernel_51413/4257093148.py:9: FutureWarning: The default of observed=False is deprecated and will be changed to True in a future version of pandas. Pass observed=False to retain current behavior or observed=True to adopt the future default and silence this warning.\n",
      "  intervalos = Estrellas.groupby(\"Grupo\")[\"Edad\"].agg([\"min\", \"max\", \"count\"])\n"
     ]
    }
   ],
   "source": [
    "# Discretizar en dos intervalos basados en los valores de la columna \"Edad\"\n",
    "bins = 2  # Número de intervalos\n",
    "labels = [\"Baja\", \"Alta\"]  # Etiquetas\n",
    "\n",
    "# Usar qcut en lugar de cut para que la distribución sea equitativa\n",
    "Estrellas[\"Grupo\"] = pd.qcut(Estrellas[\"Edad\"], q=bins, labels=labels, duplicates=\"drop\")\n",
    "\n",
    "# Determinar los intervalos y cantidad de valores en cada grupo\n",
    "intervalos = Estrellas.groupby(\"Grupo\")[\"Edad\"].agg([\"min\", \"max\", \"count\"])\n",
    "\n",
    "# Verificar que las etiquetas existen en los datos\n",
    "if \"Baja\" in intervalos.index and \"Alta\" in intervalos.index:\n",
    "    # Crear la tabla con los intervalos en formato matemático correcto (a; b]\n",
    "    tabla_resultado = pd.DataFrame({\n",
    "        \"Baja\": [f\"({intervalos.loc['Baja', 'min']}; {intervalos.loc['Baja', 'max']}]\",\n",
    "                 intervalos.loc['Baja', 'count']],\n",
    "        \"Alta\": [f\"({intervalos.loc['Alta', 'min']}; {intervalos.loc['Alta', 'max']}]\",\n",
    "                 intervalos.loc['Alta', 'count']]\n",
    "    }, index=[\"Intervalos\", \"Valores\"])\n",
    "    \n",
    "    # Mostrar la tabla final con bordes\n",
    "    print(\"\\n===== Resultados de la Discretización =====\\n\")\n",
    "    print(tabulate(tabla_resultado, headers=\"keys\", tablefmt=\"grid\"), \"\\n\")\n",
    "else:\n",
    "    print(\"Error: No se crearon correctamente los grupos 'Baja' y 'Alta'. Revisa los datos de Edad.\")\n",
    "\n"
   ]
  },
  {
   "cell_type": "markdown",
   "metadata": {},
   "source": [
    "B. Discretice por rango el atributo Edad en dos intervalos llamados Baja y Alta. Indique los rangos de los dos intervalos resultantes, así como la cantidad de ejemplos que hay en cada intervalo."
   ]
  },
  {
   "cell_type": "code",
   "execution_count": 6,
   "metadata": {},
   "outputs": [
    {
     "name": "stdout",
     "output_type": "stream",
     "text": [
      "\n",
      "===== Discretización por Rango =====\n",
      "\n",
      "+------------+--------------+------------+\n",
      "|            | Baja         | Alta       |\n",
      "+============+==============+============+\n",
      "| Intervalos | (-300; -155] | (-60; 120] |\n",
      "+------------+--------------+------------+\n",
      "| Valores    | 2            | 11         |\n",
      "+------------+--------------+------------+ \n",
      "\n"
     ]
    },
    {
     "name": "stderr",
     "output_type": "stream",
     "text": [
      "/var/folders/ts/6twr910d08vcwqqv_d3y4j_00000gn/T/ipykernel_51413/2656132992.py:10: FutureWarning: The default of observed=False is deprecated and will be changed to True in a future version of pandas. Pass observed=False to retain current behavior or observed=True to adopt the future default and silence this warning.\n",
      "  intervalos = Estrellas.groupby(\"Grupo\")[\"Edad\"].agg([\"min\", \"max\", \"count\"])\n"
     ]
    }
   ],
   "source": [
    "#Determino minimo y maximo para establecer los rangos\n",
    "Min_edad=Estrellas[\"Edad\"].min()\n",
    "Max_edad=Estrellas[\"Edad\"].max()\n",
    "# Definio los límites de los intervalos (dos grupos de igual rango)\n",
    "bins=[Min_edad,(Min_edad+Max_edad)/2,Max_edad]\n",
    "labels=[\"Baja\",\"Alta\"]\n",
    "# Discretizo la columna \"Edad\" en los rangos definidos\n",
    "Estrellas[\"Grupo\"]=pd.cut(Estrellas[\"Edad\"],bins=bins,labels=labels,include_lowest=True)\n",
    "# Cuento cuántos valores hay en cada grupo\n",
    "intervalos = Estrellas.groupby(\"Grupo\")[\"Edad\"].agg([\"min\", \"max\", \"count\"])\n",
    "tabla_resultado = pd.DataFrame({\n",
    "    \"Baja\": [f\"({intervalos.loc['Baja', 'min']}; {intervalos.loc['Baja', 'max']}]\",\n",
    "             intervalos.loc['Baja', 'count']],\n",
    "    \"Alta\": [f\"({intervalos.loc['Alta', 'min']}; {intervalos.loc['Alta', 'max']}]\",\n",
    "             intervalos.loc['Alta', 'count']]\n",
    "}, index=[\"Intervalos\", \"Valores\"])\n",
    "\n",
    "# Muestro la tabla final con bordes\n",
    "print(\"\\n===== Discretización por Rango =====\\n\")\n",
    "print(tabulate(tabla_resultado, headers=\"keys\", tablefmt=\"grid\"), \"\\n\")"
   ]
  },
  {
   "cell_type": "markdown",
   "metadata": {},
   "source": [
    "C. Calcule la correlación lineal entre los atributos Edad y Temperatura. Indique la intensidad de la correlación (no hay correlación/débil/fuerte) y el tipo (positiva/negativa)"
   ]
  },
  {
   "cell_type": "code",
   "execution_count": 6,
   "metadata": {},
   "outputs": [],
   "source": [
    "#Aseguro que la columna temperatura sea un valor numerico\n",
    "Estrellas[\"Temperatura\"] = pd.to_numeric(Estrellas[\"Temperatura\"], errors=\"coerce\")"
   ]
  },
  {
   "cell_type": "code",
   "execution_count": 7,
   "metadata": {},
   "outputs": [
    {
     "name": "stdout",
     "output_type": "stream",
     "text": [
      "\n",
      "===== Correlación entre Edad y Temperatura =====\n",
      "\n",
      "+-------------+---------+--------------------+----------+\n",
      "|             |   Valor | Intensidad         | Tipo     |\n",
      "+=============+=========+====================+==========+\n",
      "| Correlación |    0.16 | No hay correlación | Positiva |\n",
      "+-------------+---------+--------------------+----------+ \n",
      "\n"
     ]
    }
   ],
   "source": [
    "# Calculo la correlación lineal\n",
    "correlacion = Estrellas[\"Edad\"].corr(Estrellas[\"Temperatura\"])\n",
    "\n",
    "#Determino la intensidad de la correlacion\n",
    "if abs(correlacion) > 0.8:\n",
    "    intensidad = \"Fuerte\"\n",
    "elif abs(correlacion) < 0.8 and abs(correlacion)> 0.5:\n",
    "    intensidad = \"Débil\"\n",
    "else:\n",
    "    intensidad = \"No hay correlación\"\n",
    "\n",
    "# Determino el tipo de correlación (positiva o negativa)\n",
    "tipo = \"Positiva\" if correlacion > 0 else \"Negativa\"\n",
    "\n",
    "# Creo la tabla de resultados\n",
    "tabla_correlacion = pd.DataFrame({\n",
    "    \"Valor\": [round(correlacion, 3)],\n",
    "    \"Intensidad\": [intensidad],\n",
    "    \"Tipo\": [tipo]\n",
    "}, index=[\"Correlación\"])\n",
    "\n",
    "# Muestro la tabla con bordes\n",
    "print(\"\\n===== Correlación entre Edad y Temperatura =====\\n\")\n",
    "print(tabulate(tabla_correlacion, headers=\"keys\", tablefmt=\"grid\"), \"\\n\")"
   ]
  },
  {
   "cell_type": "code",
   "execution_count": 7,
   "metadata": {},
   "outputs": [
    {
     "name": "stdout",
     "output_type": "stream",
     "text": [
      "\n",
      "===== Valores del Diagrama de Caja =====\n",
      "\n",
      "+----+---------+------+------+------+-------------------+-------------------+----------------------------+--------------------------+-------------------------------+-----------------------------+\n",
      "|    |   Valor |   Q1 |   Q3 |   RI |   Bigote Inferior |   Bigote Superior | Intervalo Atípicos Leves   | Valores Atípicos Leves   | Intervalo Atípicos Extremos   | Valores Atípicos Extremos   |\n",
      "+====+=========+======+======+======+===================+===================+============================+==========================+===============================+=============================+\n",
      "|  0 |      -7 |  -32 |   10 |   42 |               -95 |                73 | (-95.0; 73.0)              | [-155, 120, -300]        | (-158.0; 136.0)               | [-300]                      |\n",
      "+----+---------+------+------+------+-------------------+-------------------+----------------------------+--------------------------+-------------------------------+-----------------------------+\n"
     ]
    },
    {
     "data": {
      "image/png": "[encoded data removed]",
      "text/plain": [
       "<Figure size 800x500 with 1 Axes>"
      ]
     },
     "metadata": {},
     "output_type": "display_data"
    }
   ],
   "source": [
    "#Elimino los valores nulos de la columna edad\n",
    "Estrellas=Estrellas.dropna(subset=[\"Edad\"])\n",
    "\n",
    "#Calculo los quatiles de la columna edad\n",
    "Q1=Estrellas[\"Edad\"].quantile(0.25)\n",
    "Q3=Estrellas[\"Edad\"].quantile(0.75)\n",
    "\n",
    "#Calculo el rango intercuartilico\n",
    "Ric=Q3-Q1\n",
    "\n",
    "#Calculo los bigotes\n",
    "Bigote_inf=Q1-1.5*Ric\n",
    "Bigote_sup=Q3+1.5*Ric\n",
    "\n",
    "#Defino los limites \n",
    "# Definir los intervalos para valores atípicos leves y extremos\n",
    "lim_inf_extremo = Q1 - 3 * Ric\n",
    "lim_sup_extremo = Q3 + 3 * Ric\n",
    "\n",
    "# Identifico valores atípicos leves y extremos\n",
    "valores_atipicos_leves = Estrellas[(Estrellas[\"Edad\"] < Bigote_inf) | (Estrellas[\"Edad\"] > Bigote_sup)][\"Edad\"].tolist()\n",
    "valores_atipicos_extremos = Estrellas[(Estrellas[\"Edad\"] < lim_inf_extremo) | (Estrellas[\"Edad\"] > lim_sup_extremo)][\"Edad\"].tolist()\n",
    "\n",
    "# Creo la tabla con los valores calculados\n",
    "tabla_boxplot = pd.DataFrame({\n",
    "    \"Valor\": [np.median(Estrellas[\"Edad\"])],\n",
    "    \"Q1\": [Q1],\n",
    "    \"Q3\": [Q3],\n",
    "    \"RI\": [Ric],\n",
    "    \"Bigote Inferior\": [Bigote_inf],\n",
    "    \"Bigote Superior\": [Bigote_sup],\n",
    "    \"Intervalo Atípicos Leves\": [f\"({Bigote_inf}; {Bigote_sup})\"],\n",
    "    \"Valores Atípicos Leves\": [valores_atipicos_leves],\n",
    "    \"Intervalo Atípicos Extremos\": [f\"({lim_inf_extremo}; {lim_sup_extremo})\"],\n",
    "    \"Valores Atípicos Extremos\": [valores_atipicos_extremos]\n",
    "})\n",
    "\n",
    "# Mostrar la tabla en formato tabular\n",
    "print(\"\\n===== Valores del Diagrama de Caja =====\\n\")\n",
    "print(tabulate(tabla_boxplot, headers=\"keys\", tablefmt=\"grid\"))\n",
    "\n",
    "# Creo el Diagrama de Caja de Tukey\n",
    "plt.figure(figsize=(8, 5))\n",
    "sns.boxplot(y=Estrellas[\"Edad\"], color=\"lightblue\")\n",
    "plt.title(\"Diagrama de Caja de Tukey - Edad\")\n",
    "plt.ylabel(\"Edad\")\n",
    "plt.grid(True)\n",
    "\n",
    "# Mostrar gráfico\n",
    "plt.show()"
   ]
  }
 ],
 "metadata": {
  "kernelspec": {
   "display_name": "Python 3",
   "language": "python",
   "name": "python3"
  },
  "language_info": {
   "codemirror_mode": {
    "name": "ipython",
    "version": 3
   },
   "file_extension": ".py",
   "mimetype": "text/x-python",
   "name": "python",
   "nbconvert_exporter": "python",
   "pygments_lexer": "ipython3",
   "version": "3.9.6"
  }
 },
 "nbformat": 4,
 "nbformat_minor": 2
}
