{
 "cells": [
  {
   "cell_type": "markdown",
   "metadata": {},
   "source": [
    "Defino la tabla"
   ]
  },
  {
   "cell_type": "code",
   "execution_count": 1,
   "metadata": {},
   "outputs": [],
   "source": [
    "probabilidades = {\n",
    "    \"Manzana\": {\n",
    "        \"color\": {\"Amarillo\": 0.8, \"Rojo\": 0.2, \"Mezcla\": 0.0},\n",
    "        \"esfericidad\": {\"mu\": 0.5, \"sigma\": 0.3},\n",
    "        \"prior\": 0.01\n",
    "    },\n",
    "    \"Pera\": {\n",
    "        \"color\": {\"Amarillo\": 0.1, \"Rojo\": 0.3, \"Mezcla\": 0.6},\n",
    "        \"esfericidad\": {\"mu\": 0.8, \"sigma\": 0.2},\n",
    "        \"prior\": 0.99\n",
    "    }\n",
    "}"
   ]
  },
  {
   "cell_type": "markdown",
   "metadata": {},
   "source": [
    "Defino las funciones"
   ]
  },
  {
   "cell_type": "code",
   "execution_count": 2,
   "metadata": {},
   "outputs": [],
   "source": [
    "def calcular_px_dado_clase(color, esfericidad, clase):\n",
    "    p_color = probabilidades[clase][\"color\"][color]\n",
    "    p_esfericidad = probabilidades[clase][\"esfericidad\"][esfericidad]\n",
    "    return p_color * p_esfericidad"
   ]
  },
  {
   "cell_type": "code",
   "execution_count": 3,
   "metadata": {},
   "outputs": [],
   "source": [
    "def calcular_probabilidad_total(color, esfericidad, clase):\n",
    "    datos = probabilidades[clase]\n",
    "    p_color = datos[\"color\"][color]\n",
    "    p_esfericidad = datos[\"esfericidad\"][esfericidad]\n",
    "    p_prior = datos[\"prior\"]\n",
    "    return p_color * p_esfericidad * p_prior"
   ]
  },
  {
   "cell_type": "code",
   "execution_count": 4,
   "metadata": {},
   "outputs": [],
   "source": [
    "def clasificar_fruta(color, esfericidad):\n",
    "    resultados = {}  # Diccionario para guardar las probabilidades de cada clase\n",
    "\n",
    "    # Recorre cada clase (Pera y Manzana)\n",
    "    for clase in probabilidades:\n",
    "        prob_total = calcular_probabilidad_total(color, esfericidad, clase)  # Calcula la probabilidad total\n",
    "        resultados[clase] = prob_total  # Guarda el resultado en el diccionario\n",
    "\n",
    "    # Busca la clase con la mayor probabilidad\n",
    "    clase_elegida = max(resultados, key=resultados.get)\n",
    "\n",
    "    # Imprime las probabilidades de cada clase\n",
    "    print(f\"Probabilidades calculadas:\")\n",
    "    for clase, prob in resultados.items():\n",
    "        print(f\"- {clase}: {prob:.4f}\")\n",
    "\n",
    "    # Imprime y devuelve la clase más probable\n",
    "    print(f\"\\nFruta clasificada como: {clase_elegida}\")\n",
    "    return clase_elegida\n"
   ]
  },
  {
   "cell_type": "markdown",
   "metadata": {},
   "source": [
    "Calculo P(x|Pera) y P(x|Manzana) para el \"Amarillo\""
   ]
  },
  {
   "cell_type": "code",
   "execution_count": 5,
   "metadata": {},
   "outputs": [
    {
     "name": "stdout",
     "output_type": "stream",
     "text": [
      "P(x | Pera): 0.08000000000000002\n",
      "P(x | Manzana): 0.4\n"
     ]
    }
   ],
   "source": [
    "p_x_dado_pera = calcular_px_dado_clase(\"Amarillo\", \"mu\", \"Pera\")\n",
    "p_x_dado_manzana = calcular_px_dado_clase(\"Amarillo\", \"mu\", \"Manzana\")\n",
    "\n",
    "print(\"P(x | Pera):\", p_x_dado_pera)\n",
    "print(\"P(x | Manzana):\", p_x_dado_manzana)"
   ]
  },
  {
   "cell_type": "markdown",
   "metadata": {},
   "source": [
    "Calculo P(x|Pera) y P(x|Manzana) para \"Mezcla\""
   ]
  },
  {
   "cell_type": "code",
   "execution_count": 6,
   "metadata": {},
   "outputs": [
    {
     "name": "stdout",
     "output_type": "stream",
     "text": [
      "P(x | Pera): 0.48\n",
      "P(x | Manzana): 0.0\n"
     ]
    }
   ],
   "source": [
    "p_x_dado_pera = calcular_px_dado_clase(\"Mezcla\", \"mu\", \"Pera\")\n",
    "p_x_dado_manzana = calcular_px_dado_clase(\"Mezcla\", \"mu\", \"Manzana\")\n",
    "\n",
    "print(\"P(x | Pera):\", p_x_dado_pera)\n",
    "print(\"P(x | Manzana):\", p_x_dado_manzana)"
   ]
  },
  {
   "cell_type": "markdown",
   "metadata": {},
   "source": [
    "Calculo P(x|Pera) *P(Pera)"
   ]
  },
  {
   "cell_type": "code",
   "execution_count": 7,
   "metadata": {},
   "outputs": [
    {
     "name": "stdout",
     "output_type": "stream",
     "text": [
      "La probabilidad de P(x|Pera)*P(Pera) Amarillo es: 0.07920000000000002\n",
      "La probabilidad de P(x|Pera)*P(Pera) para Mezcla es: 0.47519999999999996\n"
     ]
    }
   ],
   "source": [
    "print(\"La probabilidad de P(x|Pera)*P(Pera) Amarillo es:\", calcular_probabilidad_total(\"Amarillo\", \"mu\", \"Pera\"))\n",
    "print(\"La probabilidad de P(x|Pera)*P(Pera) para Mezcla es:\", calcular_probabilidad_total(\"Mezcla\", \"mu\", \"Pera\"))"
   ]
  },
  {
   "cell_type": "markdown",
   "metadata": {},
   "source": [
    "Calculo P(x|Manzana)*P(manzana)"
   ]
  },
  {
   "cell_type": "code",
   "execution_count": 8,
   "metadata": {},
   "outputs": [
    {
     "name": "stdout",
     "output_type": "stream",
     "text": [
      "La probabilidad de P(x|Manzana)*P(Manzana) con amarillo es: 0.004\n",
      "La probabilidad de P(x|Manzana)*P(Manzana) con mezcla es: 0.0\n"
     ]
    }
   ],
   "source": [
    "print(\"La probabilidad de P(x|Manzana)*P(Manzana) con amarillo es:\", calcular_probabilidad_total(\"Amarillo\", \"mu\", \"Manzana\"))\n",
    "print(\"La probabilidad de P(x|Manzana)*P(Manzana) con mezcla es:\", calcular_probabilidad_total(\"Mezcla\", \"mu\", \"Manzana\"))"
   ]
  },
  {
   "cell_type": "markdown",
   "metadata": {},
   "source": [
    "Clasifico fruta"
   ]
  },
  {
   "cell_type": "code",
   "execution_count": 9,
   "metadata": {},
   "outputs": [
    {
     "name": "stdout",
     "output_type": "stream",
     "text": [
      "Probabilidades calculadas:\n",
      "- Manzana: 0.0040\n",
      "- Pera: 0.0792\n",
      "\n",
      "Fruta clasificada como: Pera\n",
      "Probabilidades calculadas:\n",
      "- Manzana: 0.0000\n",
      "- Pera: 0.4752\n",
      "\n",
      "Fruta clasificada como: Pera\n"
     ]
    },
    {
     "data": {
      "text/plain": [
       "'Pera'"
      ]
     },
     "execution_count": 9,
     "metadata": {},
     "output_type": "execute_result"
    }
   ],
   "source": [
    "# Primer caso: Amarillo + μ\n",
    "clasificar_fruta(\"Amarillo\", \"mu\")\n",
    "\n",
    "# Segundo caso: Mezcla + μ\n",
    "clasificar_fruta(\"Mezcla\", \"mu\")\n"
   ]
  }
 ],
 "metadata": {
  "kernelspec": {
   "display_name": "Python 3",
   "language": "python",
   "name": "python3"
  },
  "language_info": {
   "codemirror_mode": {
    "name": "ipython",
    "version": 3
   },
   "file_extension": ".py",
   "mimetype": "text/x-python",
   "name": "python",
   "nbconvert_exporter": "python",
   "pygments_lexer": "ipython3",
   "version": "3.9.6"
  }
 },
 "nbformat": 4,
 "nbformat_minor": 2
}
