{
 "cells": [
  {
   "cell_type": "markdown",
   "id": "d0e6887c",
   "metadata": {},
   "source": [
    "# Clasificación con Naive Bayes\n",
    "\n",
    "Este notebook implementa paso a paso el modelo de Naive Bayes para clasificar frutas como **Manzana** o **Pera** según su **color** (atributo categórico) y su **esfericidad** (atributo numérico).\n",
    "Se utilizan las probabilidades dadas en el enunciado y se realizan los cálculos necesarios para completar la tabla de predicción.\n"
   ]
  },
  {
   "cell_type": "code",
   "execution_count": null,
   "id": "3aa962c7",
   "metadata": {},
   "outputs": [],
   "source": [
    "from math import sqrt, pi, exp\n",
    "import pandas as pd\n"
   ]
  },
  {
   "cell_type": "code",
   "execution_count": null,
   "id": "5603efde",
   "metadata": {},
   "outputs": [],
   "source": [
    "# Diccionario con probabilidades del modelo\n",
    "modelo = {\n",
    "    \"Manzana\": {\n",
    "        \"color\": {\"Amarillo\": 0.8, \"Mezcla\": 0.0, \"Rojo\": 0.2},\n",
    "        \"mu\": 0.5,\n",
    "        \"sigma\": 0.3,\n",
    "        \"prior\": 0.5\n",
    "    },\n",
    "    \"Pera\": {\n",
    "        \"color\": {\"Amarillo\": 0.1, \"Mezcla\": 0.6, \"Rojo\": 0.3},\n",
    "        \"mu\": 0.8,\n",
    "        \"sigma\": 0.2,\n",
    "        \"prior\": 0.5\n",
    "    }\n",
    "}\n"
   ]
  },
  {
   "cell_type": "code",
   "execution_count": null,
   "id": "12ac3444",
   "metadata": {},
   "outputs": [],
   "source": [
    "# Fórmula de la distribución normal (Gauss)\n",
    "def gaussiana(x, mu, sigma):\n",
    "    return (1 / (sqrt(2 * pi * sigma ** 2))) * exp(-((x - mu) ** 2) / (2 * sigma ** 2))\n"
   ]
  },
  {
   "cell_type": "code",
   "execution_count": null,
   "id": "cf144b7f",
   "metadata": {},
   "outputs": [],
   "source": [
    "# Clasificador Naive Bayes para un ejemplo\n",
    "def clasificar(color, esfericidad):\n",
    "    resultados = []\n",
    "    for clase in [\"Pera\", \"Manzana\"]:\n",
    "        p_color = modelo[clase][\"color\"].get(color, 0)\n",
    "        p_esf = gaussiana(esfericidad, modelo[clase][\"mu\"], modelo[clase][\"sigma\"])\n",
    "        p_total = p_color * p_esf\n",
    "        p_con_prior = p_total * modelo[clase][\"prior\"]\n",
    "        resultados.append({\n",
    "            \"Clase\": clase,\n",
    "            \"P(x|Clase)\": round(p_total, 3),\n",
    "            \"P(x|Clase)*P(Clase)\": round(p_con_prior, 3)\n",
    "        })\n",
    "    prediccion = max(resultados, key=lambda r: r[\"P(x|Clase)*P(Clase)\"])[\"Clase\"]\n",
    "    return resultados[0], resultados[1], prediccion\n"
   ]
  },
  {
   "cell_type": "code",
   "execution_count": null,
   "id": "6f9beb4e",
   "metadata": {},
   "outputs": [],
   "source": [
    "# Clasificamos dos ejemplos como en el ejercicio\n",
    "e1_pera, e1_manzana, pred1 = clasificar(\"Amarillo\", 0.6)\n",
    "e2_pera, e2_manzana, pred2 = clasificar(\"Mezcla\", 0.8)\n",
    "\n",
    "# Mostramos los resultados en una tabla\n",
    "tabla = pd.DataFrame([\n",
    "    {\n",
    "        \"Color\": \"Amarillo\", \"Esfericidad\": 0.6,\n",
    "        \"P(x|Pera)\": e1_pera[\"P(x|Clase)\"],\n",
    "        \"P(x|Manzana)\": e1_manzana[\"P(x|Clase)\"],\n",
    "        \"P(x|Pera)*P(Pera)\": e1_pera[\"P(x|Clase)*P(Clase)\"],\n",
    "        \"P(x|Manzana)*P(Manzana)\": e1_manzana[\"P(x|Clase)*P(Clase)\"],\n",
    "        \"Predicción\": pred1\n",
    "    },\n",
    "    {\n",
    "        \"Color\": \"Mezcla\", \"Esfericidad\": 0.8,\n",
    "        \"P(x|Pera)\": e2_pera[\"P(x|Clase)\"],\n",
    "        \"P(x|Manzana)\": e2_manzana[\"P(x|Clase)\"],\n",
    "        \"P(x|Pera)*P(Pera)\": e2_pera[\"P(x|Clase)*P(Clase)\"],\n",
    "        \"P(x|Manzana)*P(Manzana)\": e2_manzana[\"P(x|Clase)*P(Clase)\"],\n",
    "        \"Predicción\": pred2\n",
    "    }\n",
    "])\n",
    "tabla\n"
   ]
  }
 ],
 "metadata": {},
 "nbformat": 4,
 "nbformat_minor": 5
}
