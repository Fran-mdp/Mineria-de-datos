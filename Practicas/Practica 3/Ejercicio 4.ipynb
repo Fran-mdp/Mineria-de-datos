{
 "cells": [
  {
   "cell_type": "markdown",
   "id": "d0e6887c",
   "metadata": {},
   "source": [
    "# Clasificación con Naive Bayes\n"
   ]
  },
  {
   "cell_type": "markdown",
   "id": "4a0f6cd7",
   "metadata": {},
   "source": [
    "# A"
   ]
  },
  {
   "cell_type": "code",
   "execution_count": 12,
   "id": "3aa962c7",
   "metadata": {},
   "outputs": [],
   "source": [
    "from math import sqrt, pi, exp\n",
    "import pandas as pd\n"
   ]
  },
  {
   "cell_type": "code",
   "execution_count": 2,
   "id": "5603efde",
   "metadata": {},
   "outputs": [],
   "source": [
    "# Diccionario con probabilidades del modelo\n",
    "modelo = {\n",
    "    \"Manzana\": {\n",
    "        \"color\": {\"Amarillo\": 0.8, \"Mezcla\": 0.0, \"Rojo\": 0.2},\n",
    "        \"mu\": 0.5,\n",
    "        \"sigma\": 0.3,\n",
    "        \"prior\": 0.5\n",
    "    },\n",
    "    \"Pera\": {\n",
    "        \"color\": {\"Amarillo\": 0.1, \"Mezcla\": 0.6, \"Rojo\": 0.3},\n",
    "        \"mu\": 0.8,\n",
    "        \"sigma\": 0.2,\n",
    "        \"prior\": 0.5\n",
    "    }\n",
    "}\n"
   ]
  },
  {
   "cell_type": "code",
   "execution_count": 3,
   "id": "12ac3444",
   "metadata": {},
   "outputs": [],
   "source": [
    "# Fórmula de la distribución normal (Gauss)\n",
    "def gaussiana(x, mu, sigma):\n",
    "    return (1 / (sqrt(2 * pi * sigma ** 2))) * exp(-((x - mu) ** 2) / (2 * sigma ** 2))\n"
   ]
  },
  {
   "cell_type": "code",
   "execution_count": 3,
   "id": "cf144b7f",
   "metadata": {},
   "outputs": [],
   "source": [
    "# Clasificador Naive Bayes para un ejemplo\n",
    "def clasificar(color, esfericidad):\n",
    "    resultados = []\n",
    "    for clase in [\"Pera\", \"Manzana\"]:\n",
    "        p_color = modelo[clase][\"color\"].get(color, 0)\n",
    "        p_esf = gaussiana(esfericidad, modelo[clase][\"mu\"], modelo[clase][\"sigma\"])\n",
    "        p_total = p_color * p_esf\n",
    "        p_con_prior = p_total * modelo[clase][\"prior\"]\n",
    "        resultados.append({\n",
    "            \"Clase\": clase,\n",
    "            \"P(x|Clase)\": round(p_total, 3),\n",
    "            \"P(x|Clase)*P(Clase)\": round(p_con_prior, 3)\n",
    "        })\n",
    "    prediccion = max(resultados, key=lambda r: r[\"P(x|Clase)*P(Clase)\"])[\"Clase\"]\n",
    "    return resultados[0], resultados[1], prediccion\n"
   ]
  },
  {
   "cell_type": "code",
   "execution_count": 5,
   "id": "6f9beb4e",
   "metadata": {},
   "outputs": [
    {
     "data": {
      "text/html": [
       "<div>\n",
       "<style scoped>\n",
       "    .dataframe tbody tr th:only-of-type {\n",
       "        vertical-align: middle;\n",
       "    }\n",
       "\n",
       "    .dataframe tbody tr th {\n",
       "        vertical-align: top;\n",
       "    }\n",
       "\n",
       "    .dataframe thead th {\n",
       "        text-align: right;\n",
       "    }\n",
       "</style>\n",
       "<table border=\"1\" class=\"dataframe\">\n",
       "  <thead>\n",
       "    <tr style=\"text-align: right;\">\n",
       "      <th></th>\n",
       "      <th>Color</th>\n",
       "      <th>Esfericidad</th>\n",
       "      <th>P(x|Pera)</th>\n",
       "      <th>P(x|Manzana)</th>\n",
       "      <th>P(x|Pera)*P(Pera)</th>\n",
       "      <th>P(x|Manzana)*P(Manzana)</th>\n",
       "      <th>Predicción</th>\n",
       "    </tr>\n",
       "  </thead>\n",
       "  <tbody>\n",
       "    <tr>\n",
       "      <th>0</th>\n",
       "      <td>Amarillo</td>\n",
       "      <td>0.6</td>\n",
       "      <td>0.121</td>\n",
       "      <td>1.006</td>\n",
       "      <td>0.060</td>\n",
       "      <td>0.503</td>\n",
       "      <td>Manzana</td>\n",
       "    </tr>\n",
       "    <tr>\n",
       "      <th>1</th>\n",
       "      <td>Mezcla</td>\n",
       "      <td>0.8</td>\n",
       "      <td>1.197</td>\n",
       "      <td>0.000</td>\n",
       "      <td>0.598</td>\n",
       "      <td>0.000</td>\n",
       "      <td>Pera</td>\n",
       "    </tr>\n",
       "  </tbody>\n",
       "</table>\n",
       "</div>"
      ],
      "text/plain": [
       "      Color  Esfericidad  P(x|Pera)  P(x|Manzana)  P(x|Pera)*P(Pera)  \\\n",
       "0  Amarillo          0.6      0.121         1.006              0.060   \n",
       "1    Mezcla          0.8      1.197         0.000              0.598   \n",
       "\n",
       "   P(x|Manzana)*P(Manzana) Predicción  \n",
       "0                    0.503    Manzana  \n",
       "1                    0.000       Pera  "
      ]
     },
     "execution_count": 5,
     "metadata": {},
     "output_type": "execute_result"
    }
   ],
   "source": [
    "# Clasificamos dos ejemplos como en el ejercicio\n",
    "e1_pera, e1_manzana, pred1 = clasificar(\"Amarillo\", 0.6)\n",
    "e2_pera, e2_manzana, pred2 = clasificar(\"Mezcla\", 0.8)\n",
    "\n",
    "# Mostramos los resultados en una tabla\n",
    "tabla = pd.DataFrame([\n",
    "    {\n",
    "        \"Color\": \"Amarillo\", \"Esfericidad\": 0.6,\n",
    "        \"P(x|Pera)\": e1_pera[\"P(x|Clase)\"],\n",
    "        \"P(x|Manzana)\": e1_manzana[\"P(x|Clase)\"],\n",
    "        \"P(x|Pera)*P(Pera)\": e1_pera[\"P(x|Clase)*P(Clase)\"],\n",
    "        \"P(x|Manzana)*P(Manzana)\": e1_manzana[\"P(x|Clase)*P(Clase)\"],\n",
    "        \"Predicción\": pred1\n",
    "    },\n",
    "    {\n",
    "        \"Color\": \"Mezcla\", \"Esfericidad\": 0.8,\n",
    "        \"P(x|Pera)\": e2_pera[\"P(x|Clase)\"],\n",
    "        \"P(x|Manzana)\": e2_manzana[\"P(x|Clase)\"],\n",
    "        \"P(x|Pera)*P(Pera)\": e2_pera[\"P(x|Clase)*P(Clase)\"],\n",
    "        \"P(x|Manzana)*P(Manzana)\": e2_manzana[\"P(x|Clase)*P(Clase)\"],\n",
    "        \"Predicción\": pred2\n",
    "    }\n",
    "])\n",
    "tabla\n"
   ]
  },
  {
   "cell_type": "markdown",
   "id": "d8c77fea",
   "metadata": {},
   "source": [
    "# B\n"
   ]
  },
  {
   "cell_type": "code",
   "execution_count": null,
   "id": "5f13448b",
   "metadata": {},
   "outputs": [],
   "source": []
  },
  {
   "cell_type": "code",
   "execution_count": 13,
   "id": "1179ad5b",
   "metadata": {},
   "outputs": [],
   "source": [
    "# Diccionario con probabilidades del modelo\n",
    "modelo = {\n",
    "    \"Manzana\": {\n",
    "        \"color\": {\"Amarillo\": 0.8, \"Mezcla\": 0.0, \"Rojo\": 0.2},\n",
    "        \"mu\": 0.5,\n",
    "        \"sigma\": 0.3,\n",
    "        \"prior\": 0.01\n",
    "    },\n",
    "    \"Pera\": {\n",
    "        \"color\": {\"Amarillo\": 0.1, \"Mezcla\": 0.6, \"Rojo\": 0.3},\n",
    "        \"mu\": 0.8,\n",
    "        \"sigma\": 0.2,\n",
    "        \"prior\": 0.99\n",
    "    }\n",
    "}"
   ]
  },
  {
   "cell_type": "code",
   "execution_count": 16,
   "id": "cdad1c06",
   "metadata": {},
   "outputs": [
    {
     "data": {
      "text/html": [
       "<div>\n",
       "<style scoped>\n",
       "    .dataframe tbody tr th:only-of-type {\n",
       "        vertical-align: middle;\n",
       "    }\n",
       "\n",
       "    .dataframe tbody tr th {\n",
       "        vertical-align: top;\n",
       "    }\n",
       "\n",
       "    .dataframe thead th {\n",
       "        text-align: right;\n",
       "    }\n",
       "</style>\n",
       "<table border=\"1\" class=\"dataframe\">\n",
       "  <thead>\n",
       "    <tr style=\"text-align: right;\">\n",
       "      <th></th>\n",
       "      <th>Color</th>\n",
       "      <th>Esfericidad</th>\n",
       "      <th>P(x|Pera)</th>\n",
       "      <th>P(x|Manzana)</th>\n",
       "      <th>P(x|Pera)*P(Pera)</th>\n",
       "      <th>P(x|Manzana)*P(Manzana)</th>\n",
       "      <th>Predicción</th>\n",
       "    </tr>\n",
       "  </thead>\n",
       "  <tbody>\n",
       "    <tr>\n",
       "      <th>0</th>\n",
       "      <td>Amarillo</td>\n",
       "      <td>0.6</td>\n",
       "      <td>0.121</td>\n",
       "      <td>1.006</td>\n",
       "      <td>0.120</td>\n",
       "      <td>0.01</td>\n",
       "      <td>Pera</td>\n",
       "    </tr>\n",
       "    <tr>\n",
       "      <th>1</th>\n",
       "      <td>Mezcla</td>\n",
       "      <td>0.8</td>\n",
       "      <td>1.197</td>\n",
       "      <td>0.000</td>\n",
       "      <td>1.185</td>\n",
       "      <td>0.00</td>\n",
       "      <td>Pera</td>\n",
       "    </tr>\n",
       "  </tbody>\n",
       "</table>\n",
       "</div>"
      ],
      "text/plain": [
       "      Color  Esfericidad  P(x|Pera)  P(x|Manzana)  P(x|Pera)*P(Pera)  \\\n",
       "0  Amarillo          0.6      0.121         1.006              0.120   \n",
       "1    Mezcla          0.8      1.197         0.000              1.185   \n",
       "\n",
       "   P(x|Manzana)*P(Manzana) Predicción  \n",
       "0                     0.01       Pera  \n",
       "1                     0.00       Pera  "
      ]
     },
     "execution_count": 17,
     "metadata": {},
     "output_type": "execute_result"
    }
   ],
   "source": [
    "# Clasificamos dos ejemplos como en el ejercicio\n",
    "e1_pera, e1_manzana, pred1 = clasificar(\"Amarillo\", 0.6)\n",
    "e2_pera, e2_manzana, pred2 = clasificar(\"Mezcla\", 0.8)\n",
    "\n",
    "# Mostramos los resultados en una tabla\n",
    "tabla = pd.DataFrame([\n",
    "    {\n",
    "        \"Color\": \"Amarillo\", \"Esfericidad\": 0.6,\n",
    "        \"P(x|Pera)\": e1_pera[\"P(x|Clase)\"],\n",
    "        \"P(x|Manzana)\": e1_manzana[\"P(x|Clase)\"],\n",
    "        \"P(x|Pera)*P(Pera)\": e1_pera[\"P(x|Clase)*P(Clase)\"],\n",
    "        \"P(x|Manzana)*P(Manzana)\": e1_manzana[\"P(x|Clase)*P(Clase)\"],\n",
    "        \"Predicción\": pred1\n",
    "    },\n",
    "    {\n",
    "        \"Color\": \"Mezcla\", \"Esfericidad\": 0.8,\n",
    "        \"P(x|Pera)\": e2_pera[\"P(x|Clase)\"],\n",
    "        \"P(x|Manzana)\": e2_manzana[\"P(x|Clase)\"],\n",
    "        \"P(x|Pera)*P(Pera)\": e2_pera[\"P(x|Clase)*P(Clase)\"],\n",
    "        \"P(x|Manzana)*P(Manzana)\": e2_manzana[\"P(x|Clase)*P(Clase)\"],\n",
    "        \"Predicción\": pred2\n",
    "    }\n",
    "])\n",
    "tabla"
   ]
  }
 ],
 "metadata": {
  "kernelspec": {
   "display_name": "Python 3",
   "language": "python",
   "name": "python3"
  },
  "language_info": {
   "codemirror_mode": {
    "name": "ipython",
    "version": 3
   },
   "file_extension": ".py",
   "mimetype": "text/x-python",
   "name": "python",
   "nbconvert_exporter": "python",
   "pygments_lexer": "ipython3",
   "version": "3.9.6"
  }
 },
 "nbformat": 4,
 "nbformat_minor": 5
}
