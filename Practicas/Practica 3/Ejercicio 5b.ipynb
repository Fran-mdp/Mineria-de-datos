{
 "cells": [
  {
   "cell_type": "markdown",
   "id": "b6db2116",
   "metadata": {},
   "source": [
    "# Clasificación Naive Bayes\n",
    "Este notebook implementa un modelo de Naive Bayes para clasificar estrellas como tipo **F** o **K** usando los atributos: Temperatura, Luminosidad y si es habitable."
   ]
  },
  {
   "cell_type": "code",
   "execution_count": 1,
   "id": "a683df62",
   "metadata": {},
   "outputs": [],
   "source": [
    "\n",
    "import pandas as pd\n",
    "import numpy as np\n",
    "from math import exp, sqrt, pi"
   ]
  },
  {
   "cell_type": "code",
   "execution_count": 2,
   "id": "e639dd50",
   "metadata": {},
   "outputs": [],
   "source": [
    "# Función gaussiana\n",
    "def gaussiana(x, mu, sigma):\n",
    "    return (1 / (sigma * sqrt(2 * pi))) * exp(-0.5 * ((x - mu) / sigma) ** 2)"
   ]
  },
  {
   "cell_type": "code",
   "execution_count": 3,
   "id": "c97859db",
   "metadata": {},
   "outputs": [],
   "source": [
    "# Diccionario con parámetros del modelo\n",
    "modelo_nb = {\n",
    "    \"F\": {\n",
    "        \"temperatura_mu\": 5100.00,\n",
    "        \"temperatura_sigma\": 2086.86,\n",
    "        \"habitable_si\": 0.25,\n",
    "        \"habitable_no\": 0.75,\n",
    "        \"luminosidad_mu\": 11.75,\n",
    "        \"luminosidad_sigma\": 7.63,\n",
    "        \"prior\": 0.4\n",
    "    },\n",
    "    \"K\": {\n",
    "        \"temperatura_mu\": 2866.67,\n",
    "        \"temperatura_sigma\": 1231.08,\n",
    "        \"habitable_si\": 0.5,\n",
    "        \"habitable_no\": 0.5,\n",
    "        \"luminosidad_mu\": 3.33,\n",
    "        \"luminosidad_sigma\": 1.49,\n",
    "        \"prior\": 0.6\n",
    "    }\n",
    "}\n"
   ]
  },
  {
   "cell_type": "code",
   "execution_count": 4,
   "id": "130138bc",
   "metadata": {},
   "outputs": [],
   "source": [
    "# Clasificador Naive Bayes para una estrella\n",
    "def clasificar_estrella_prob(temperatura, habitable, luminosidad):\n",
    "    resultados = []\n",
    "    for clase in [\"F\", \"K\"]:\n",
    "        p_temp = gaussiana(temperatura, modelo_nb[clase][\"temperatura_mu\"], modelo_nb[clase][\"temperatura_sigma\"])\n",
    "        p_hab = modelo_nb[clase][f\"habitable_{habitable.lower()}\"]\n",
    "        p_lum = gaussiana(luminosidad, modelo_nb[clase][\"luminosidad_mu\"], modelo_nb[clase][\"luminosidad_sigma\"])\n",
    "        p_total = p_temp * p_hab * p_lum\n",
    "        p_con_prior = p_total * modelo_nb[clase][\"prior\"]\n",
    "        resultados.append({\n",
    "            \"Clase\": clase,\n",
    "            \"P(x|Clase)\": p_total,\n",
    "            \"P(x|Clase)*P(Clase)\": p_con_prior\n",
    "        })\n",
    "    prediccion = max(resultados, key=lambda r: r[\"P(x|Clase)*P(Clase)\"])[\"Clase\"]\n",
    "    return resultados[0], resultados[1], prediccion\n",
    "\n",
    "# Datos de ejemplo\n",
    "estrellas = [\n",
    "    {\"Temperatura\": 1900, \"Habitable\": \"No\", \"Luminosidad\": 1},\n",
    "    {\"Temperatura\": 2300, \"Habitable\": \"No\", \"Luminosidad\": 2},\n",
    "    {\"Temperatura\": 5500, \"Habitable\": \"No\", \"Luminosidad\": 5}\n",
    "]"
   ]
  },
  {
   "cell_type": "code",
   "execution_count": 5,
   "id": "b814ce0f",
   "metadata": {},
   "outputs": [
    {
     "data": {
      "text/html": [
       "<div>\n",
       "<style scoped>\n",
       "    .dataframe tbody tr th:only-of-type {\n",
       "        vertical-align: middle;\n",
       "    }\n",
       "\n",
       "    .dataframe tbody tr th {\n",
       "        vertical-align: top;\n",
       "    }\n",
       "\n",
       "    .dataframe thead th {\n",
       "        text-align: right;\n",
       "    }\n",
       "</style>\n",
       "<table border=\"1\" class=\"dataframe\">\n",
       "  <thead>\n",
       "    <tr style=\"text-align: right;\">\n",
       "      <th></th>\n",
       "      <th>T</th>\n",
       "      <th>H</th>\n",
       "      <th>L</th>\n",
       "      <th>P(x|F)</th>\n",
       "      <th>P(x|K)</th>\n",
       "      <th>P(x|F)*P(F)</th>\n",
       "      <th>P(x|K)*P(K)</th>\n",
       "      <th>Predicción</th>\n",
       "    </tr>\n",
       "  </thead>\n",
       "  <tbody>\n",
       "    <tr>\n",
       "      <th>0</th>\n",
       "      <td>1900</td>\n",
       "      <td>No</td>\n",
       "      <td>1</td>\n",
       "      <td>8.58e-07</td>\n",
       "      <td>9.38e-06</td>\n",
       "      <td>3.43e-07</td>\n",
       "      <td>5.63e-06</td>\n",
       "      <td>K</td>\n",
       "    </tr>\n",
       "    <tr>\n",
       "      <th>1</th>\n",
       "      <td>2300</td>\n",
       "      <td>No</td>\n",
       "      <td>2</td>\n",
       "      <td>1.35e-06</td>\n",
       "      <td>2.62e-05</td>\n",
       "      <td>5.39e-07</td>\n",
       "      <td>1.57e-05</td>\n",
       "      <td>K</td>\n",
       "    </tr>\n",
       "    <tr>\n",
       "      <th>2</th>\n",
       "      <td>5500</td>\n",
       "      <td>No</td>\n",
       "      <td>5</td>\n",
       "      <td>4.98e-06</td>\n",
       "      <td>2.35e-06</td>\n",
       "      <td>1.99e-06</td>\n",
       "      <td>1.41e-06</td>\n",
       "      <td>F</td>\n",
       "    </tr>\n",
       "  </tbody>\n",
       "</table>\n",
       "</div>"
      ],
      "text/plain": [
       "      T   H  L   P(x|F)   P(x|K)  P(x|F)*P(F)  P(x|K)*P(K) Predicción\n",
       "0  1900  No  1 8.58e-07 9.38e-06     3.43e-07     5.63e-06          K\n",
       "1  2300  No  2 1.35e-06 2.62e-05     5.39e-07     1.57e-05          K\n",
       "2  5500  No  5 4.98e-06 2.35e-06     1.99e-06     1.41e-06          F"
      ]
     },
     "execution_count": 5,
     "metadata": {},
     "output_type": "execute_result"
    }
   ],
   "source": [
    "# Clasificación\n",
    "tabla_prob = []\n",
    "for estrella in estrellas:\n",
    "    f, k, pred = clasificar_estrella_prob(estrella[\"Temperatura\"], estrella[\"Habitable\"], estrella[\"Luminosidad\"])\n",
    "    tabla_prob.append({\n",
    "        \"T\": estrella[\"Temperatura\"],\n",
    "        \"H\": estrella[\"Habitable\"],\n",
    "        \"L\": estrella[\"Luminosidad\"],\n",
    "        \"P(x|F)\": f[\"P(x|Clase)\"],\n",
    "        \"P(x|K)\": k[\"P(x|Clase)\"],\n",
    "        \"P(x|F)*P(F)\": f[\"P(x|Clase)*P(Clase)\"],\n",
    "        \"P(x|K)*P(K)\": k[\"P(x|Clase)*P(Clase)\"],\n",
    "        \"Predicción\": pred\n",
    "    })\n",
    "\n",
    "df_resultado = pd.DataFrame(tabla_prob)\n",
    "pd.set_option(\"display.float_format\", lambda x: f\"{x:.2e}\")\n",
    "df_resultado\n"
   ]
  }
 ],
 "metadata": {
  "kernelspec": {
   "display_name": "Python 3",
   "language": "python",
   "name": "python3"
  },
  "language_info": {
   "codemirror_mode": {
    "name": "ipython",
    "version": 3
   },
   "file_extension": ".py",
   "mimetype": "text/x-python",
   "name": "python",
   "nbconvert_exporter": "python",
   "pygments_lexer": "ipython3",
   "version": "3.9.6"
  }
 },
 "nbformat": 4,
 "nbformat_minor": 5
}
