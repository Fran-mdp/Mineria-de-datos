{
 "cells": [
  {
   "cell_type": "markdown",
   "metadata": {},
   "source": [
    "Creo los puntos y los centroides"
   ]
  },
  {
   "cell_type": "code",
   "execution_count": 2,
   "metadata": {},
   "outputs": [],
   "source": [
    "import numpy as np\n",
    "#Puntos \n",
    "x1 = np.array([2, 0])\n",
    "x2 = np.array([1, 2])\n",
    "x3 = np.array([3, 4])\n",
    "x4 = np.array([4, 4])\n",
    "puntos=np.array([x1,x2,x3,x4])\n",
    "#Centroides\n",
    "c1 = np.array([3, 3])\n",
    "c2 = np.array([4, 3])\n",
    "centroides=np.array([c1,c2])\n"
   ]
  },
  {
   "cell_type": "markdown",
   "metadata": {},
   "source": [
    "Funcion para calcular las distancia "
   ]
  },
  {
   "cell_type": "code",
   "execution_count": 3,
   "metadata": {},
   "outputs": [],
   "source": [
    "def asignar_centroide(punto, c1, c2, nombre=\"\"):\n",
    "    d1 = np.sum((punto - c1)**2)\n",
    "    d2 = np.sum((punto - c2)**2)\n",
    "\n",
    "    print(f\"Distancia de {nombre} a c1:\", d1)\n",
    "    print(f\"Distancia de {nombre} a c2:\", d2)\n",
    "\n",
    "    if d1 < d2:\n",
    "        print(f\"{nombre} se asigna al centroide c1\\n\")\n",
    "        return \"c1\"\n",
    "    elif d2 < d1:\n",
    "        print(f\"{nombre} se asigna al centroide c2\\n\")\n",
    "        return \"c2\"\n",
    "    else:\n",
    "        print(f\"{nombre} tiene igual distancia a c1 y c2, se asigna aleatoriamente (por ejemplo, c1)\\n\")\n",
    "        return \"c1\"  # arbitrariamente elegís c1 en caso de empate\n"
   ]
  },
  {
   "cell_type": "markdown",
   "metadata": {},
   "source": [
    "Funcion para calcular el nuevo centroide"
   ]
  },
  {
   "cell_type": "code",
   "execution_count": 4,
   "metadata": {},
   "outputs": [],
   "source": [
    "def calcular_nuevo_centroide(puntos_grupo):\n",
    "    if len(puntos_grupo) == 0:\n",
    "        print(\"⚠️ Grupo vacío. No se puede calcular centroide.\")\n",
    "        return None\n",
    "    return np.mean(puntos_grupo, axis=0)\n"
   ]
  },
  {
   "cell_type": "markdown",
   "metadata": {},
   "source": [
    "Funcion para graficar"
   ]
  },
  {
   "cell_type": "code",
   "execution_count": 5,
   "metadata": {},
   "outputs": [],
   "source": [
    "import matplotlib.pyplot as plt\n",
    "\n",
    "def graficar_clusters(puntos, asignaciones, centroides, iteracion):\n",
    "    colores = [\"skyblue\", \"lightcoral\", \"lightgreen\", \"orange\"]\n",
    "    plt.figure(figsize=(6, 6))\n",
    "\n",
    "    # Graficar los puntos, uno por grupo\n",
    "    for i in range(len(centroides)):\n",
    "        grupo = puntos[np.array(asignaciones) == i]\n",
    "        plt.scatter(grupo[:, 0], grupo[:, 1], c=colores[i], label=f\"Cluster {i+1}\")\n",
    "\n",
    "    # Graficar los centroides\n",
    "    plt.scatter(centroides[:, 0], centroides[:, 1], c='black', marker='X', s=200, label='Centroides')\n",
    "\n",
    "    plt.title(f\"Iteración {iteracion}\")\n",
    "    plt.xlabel(\"X\")\n",
    "    plt.ylabel(\"Y\")\n",
    "    plt.legend()\n",
    "    plt.grid(True)\n",
    "    plt.show()\n"
   ]
  },
  {
   "cell_type": "markdown",
   "metadata": {},
   "source": [
    "Primera iteracion"
   ]
  },
  {
   "cell_type": "code",
   "execution_count": 6,
   "metadata": {},
   "outputs": [
    {
     "name": "stdout",
     "output_type": "stream",
     "text": [
      "Distancia de x1 a c1: 10\n",
      "Distancia de x1 a c2: 13\n",
      "x1 se asigna al centroide c1\n",
      "\n",
      "Distancia de x2 a c1: 5\n",
      "Distancia de x2 a c2: 10\n",
      "x2 se asigna al centroide c1\n",
      "\n",
      "Distancia de x3 a c1: 1\n",
      "Distancia de x3 a c2: 2\n",
      "x3 se asigna al centroide c1\n",
      "\n",
      "Distancia de x4 a c1: 2\n",
      "Distancia de x4 a c2: 1\n",
      "x4 se asigna al centroide c2\n",
      "\n"
     ]
    },
    {
     "data": {
      "text/plain": [
       "'c2'"
      ]
     },
     "execution_count": 6,
     "metadata": {},
     "output_type": "execute_result"
    }
   ],
   "source": [
    "# Llamás a la función para cada punto\n",
    "asignar_centroide(x1, c1, c2, \"x1\")\n",
    "asignar_centroide(x2, c1, c2, \"x2\")\n",
    "asignar_centroide(x3, c1, c2, \"x3\")\n",
    "asignar_centroide(x4, c1, c2, \"x4\")"
   ]
  },
  {
   "cell_type": "markdown",
   "metadata": {},
   "source": [
    "Grafica->iteracion 1"
   ]
  },
  {
   "cell_type": "code",
   "execution_count": 7,
   "metadata": {},
   "outputs": [
    {
     "data": {
      "image/png": "[encoded data removed]",
      "text/plain": [
       "<Figure size 600x600 with 1 Axes>"
      ]
     },
     "metadata": {},
     "output_type": "display_data"
    }
   ],
   "source": [
    "asignacion=np.array([0,0,0,1])\n",
    "graficar_clusters(puntos,asignacion,centroides,1)"
   ]
  },
  {
   "cell_type": "markdown",
   "metadata": {},
   "source": [
    "Calculo del nuevo centroide para segunda iteracion"
   ]
  },
  {
   "cell_type": "code",
   "execution_count": 8,
   "metadata": {},
   "outputs": [
    {
     "name": "stdout",
     "output_type": "stream",
     "text": [
      "Nuevo centroide c1: [2. 2.]\n",
      "Nuevo centroide c2: [4. 4.]\n"
     ]
    }
   ],
   "source": [
    "grupo1 = np.array([x1, x2, x3])\n",
    "grupo2=np.array([x4])\n",
    "nuevo_c1 = calcular_nuevo_centroide(grupo1)\n",
    "nuevo_c2 = calcular_nuevo_centroide(grupo2)\n",
    "\n",
    "print(\"Nuevo centroide c1:\", nuevo_c1)\n",
    "print(\"Nuevo centroide c2:\", nuevo_c2)\n",
    "centroides=np.array([nuevo_c1,nuevo_c2])\n"
   ]
  },
  {
   "cell_type": "markdown",
   "metadata": {},
   "source": [
    "Segunda iteracion"
   ]
  },
  {
   "cell_type": "code",
   "execution_count": 9,
   "metadata": {},
   "outputs": [
    {
     "name": "stdout",
     "output_type": "stream",
     "text": [
      "Distancia de x1 a c1: 4.0\n",
      "Distancia de x1 a c2: 20.0\n",
      "x1 se asigna al centroide c1\n",
      "\n",
      "Distancia de x2 a c1: 1.0\n",
      "Distancia de x2 a c2: 13.0\n",
      "x2 se asigna al centroide c1\n",
      "\n",
      "Distancia de x3 a c1: 5.0\n",
      "Distancia de x3 a c2: 1.0\n",
      "x3 se asigna al centroide c2\n",
      "\n",
      "Distancia de x4 a c1: 8.0\n",
      "Distancia de x4 a c2: 0.0\n",
      "x4 se asigna al centroide c2\n",
      "\n"
     ]
    },
    {
     "data": {
      "text/plain": [
       "'c2'"
      ]
     },
     "execution_count": 9,
     "metadata": {},
     "output_type": "execute_result"
    }
   ],
   "source": [
    "# Llamás a la función para cada punto\n",
    "asignar_centroide(x1, nuevo_c1, nuevo_c2, \"x1\")\n",
    "asignar_centroide(x2, nuevo_c1, nuevo_c2, \"x2\")\n",
    "asignar_centroide(x3, nuevo_c1, nuevo_c2, \"x3\")\n",
    "asignar_centroide(x4, nuevo_c1, nuevo_c2, \"x4\")"
   ]
  },
  {
   "cell_type": "markdown",
   "metadata": {},
   "source": [
    "Grafico->iteracion 2"
   ]
  },
  {
   "cell_type": "code",
   "execution_count": 10,
   "metadata": {},
   "outputs": [
    {
     "data": {
      "image/png": "[encoded data removed]",
      "text/plain": [
       "<Figure size 600x600 with 1 Axes>"
      ]
     },
     "metadata": {},
     "output_type": "display_data"
    }
   ],
   "source": [
    "asignacion=np.array([0,0,1,1])\n",
    "graficar_clusters(puntos,asignacion,centroides,2)"
   ]
  },
  {
   "cell_type": "markdown",
   "metadata": {},
   "source": [
    "Calculo los nuevos centrodes para tercera iteracion"
   ]
  },
  {
   "cell_type": "code",
   "execution_count": 11,
   "metadata": {},
   "outputs": [
    {
     "name": "stdout",
     "output_type": "stream",
     "text": [
      "Nuevo centroide c1: [1.5 1. ]\n",
      "Nuevo centroide c2: [3.5 4. ]\n"
     ]
    }
   ],
   "source": [
    "grupo1 = np.array([x1, x2])\n",
    "grupo2=np.array([x3,x4])\n",
    "nuevo_c1 = calcular_nuevo_centroide(grupo1)\n",
    "nuevo_c2 = calcular_nuevo_centroide(grupo2)\n",
    "\n",
    "print(\"Nuevo centroide c1:\", nuevo_c1)\n",
    "print(\"Nuevo centroide c2:\", nuevo_c2)\n",
    "centroides=np.array([nuevo_c1,nuevo_c2])"
   ]
  },
  {
   "cell_type": "markdown",
   "metadata": {},
   "source": [
    "tercera iteracion "
   ]
  },
  {
   "cell_type": "code",
   "execution_count": 12,
   "metadata": {},
   "outputs": [
    {
     "name": "stdout",
     "output_type": "stream",
     "text": [
      "Distancia de x1 a c1: 1.25\n",
      "Distancia de x1 a c2: 18.25\n",
      "x1 se asigna al centroide c1\n",
      "\n",
      "Distancia de x2 a c1: 1.25\n",
      "Distancia de x2 a c2: 10.25\n",
      "x2 se asigna al centroide c1\n",
      "\n",
      "Distancia de x3 a c1: 11.25\n",
      "Distancia de x3 a c2: 0.25\n",
      "x3 se asigna al centroide c2\n",
      "\n",
      "Distancia de x4 a c1: 15.25\n",
      "Distancia de x4 a c2: 0.25\n",
      "x4 se asigna al centroide c2\n",
      "\n"
     ]
    },
    {
     "data": {
      "text/plain": [
       "'c2'"
      ]
     },
     "execution_count": 12,
     "metadata": {},
     "output_type": "execute_result"
    }
   ],
   "source": [
    "# Llamás a la función para cada punto\n",
    "asignar_centroide(x1, nuevo_c1, nuevo_c2, \"x1\")\n",
    "asignar_centroide(x2, nuevo_c1, nuevo_c2, \"x2\")\n",
    "asignar_centroide(x3, nuevo_c1, nuevo_c2, \"x3\")\n",
    "asignar_centroide(x4, nuevo_c1, nuevo_c2, \"x4\")"
   ]
  },
  {
   "cell_type": "markdown",
   "metadata": {},
   "source": [
    "Grafico-> tercera iteracion"
   ]
  },
  {
   "cell_type": "code",
   "execution_count": 13,
   "metadata": {},
   "outputs": [
    {
     "data": {
      "image/png": "[encoded data removed]",
      "text/plain": [
       "<Figure size 600x600 with 1 Axes>"
      ]
     },
     "metadata": {},
     "output_type": "display_data"
    }
   ],
   "source": [
    "asignacion=np.array([0,0,1,1])\n",
    "graficar_clusters(puntos,asignacion,centroides,3)"
   ]
  },
  {
   "cell_type": "markdown",
   "metadata": {},
   "source": [
    "calculo el centroide"
   ]
  },
  {
   "cell_type": "code",
   "execution_count": 14,
   "metadata": {},
   "outputs": [
    {
     "name": "stdout",
     "output_type": "stream",
     "text": [
      "Nuevo centroide c1: [1.5 1. ]\n",
      "Nuevo centroide c2: [3.5 4. ]\n"
     ]
    }
   ],
   "source": [
    "grupo1 = np.array([x1, x2])\n",
    "grupo2=np.array([x3,x4])\n",
    "nuevo_c1 = calcular_nuevo_centroide(grupo1)\n",
    "nuevo_c2 = calcular_nuevo_centroide(grupo2)\n",
    "\n",
    "print(\"Nuevo centroide c1:\", nuevo_c1)\n",
    "print(\"Nuevo centroide c2:\", nuevo_c2)\n",
    "centroides=np.array([nuevo_c1,nuevo_c2])"
   ]
  },
  {
   "cell_type": "markdown",
   "metadata": {},
   "source": [
    "Pregunta:\n",
    "Si realizara más iteraciones del algoritmo ¿cambiarían las asignaciones? ¿y los centros? ¿por qué?\n",
    "\n",
    "Respuesta:\n",
    "\n",
    "No, no cambiarían. Esto se debe a que el algoritmo K-means ya alcanzó un estado de convergencia. A partir de la última iteración, los puntos se asignan a los mismos centros que en la iteración anterior. Como los grupos de puntos no cambian, los nuevos centroides calculados (promedios) tampoco cambian. Por lo tanto, aunque siguiera iterando, tanto las asignaciones como los centros permanecerían iguales."
   ]
  },
  {
   "cell_type": "markdown",
   "metadata": {},
   "source": [
    "inciso c"
   ]
  },
  {
   "cell_type": "markdown",
   "metadata": {},
   "source": [
    "Defino los nuevos centroides"
   ]
  },
  {
   "cell_type": "code",
   "execution_count": 56,
   "metadata": {},
   "outputs": [],
   "source": [
    "#centroides\n",
    "nuevo_c1=np.array([1,2])\n",
    "nuevo_c2=np.array([3,4])\n",
    "centroides=np.array([nuevo_c1,nuevo_c2])"
   ]
  },
  {
   "cell_type": "markdown",
   "metadata": {},
   "source": [
    "Primera iteracion"
   ]
  },
  {
   "cell_type": "code",
   "execution_count": 57,
   "metadata": {},
   "outputs": [
    {
     "name": "stdout",
     "output_type": "stream",
     "text": [
      "Distancia de x1 a c1: 5\n",
      "Distancia de x1 a c2: 17\n",
      "x1 se asigna al centroide c1\n",
      "\n",
      "Distancia de x2 a c1: 0\n",
      "Distancia de x2 a c2: 8\n",
      "x2 se asigna al centroide c1\n",
      "\n",
      "Distancia de x3 a c1: 8\n",
      "Distancia de x3 a c2: 0\n",
      "x3 se asigna al centroide c2\n",
      "\n",
      "Distancia de x4 a c1: 13\n",
      "Distancia de x4 a c2: 1\n",
      "x4 se asigna al centroide c2\n",
      "\n"
     ]
    },
    {
     "data": {
      "text/plain": [
       "'c2'"
      ]
     },
     "execution_count": 57,
     "metadata": {},
     "output_type": "execute_result"
    }
   ],
   "source": [
    "# Llamás a la función para cada punto\n",
    "asignar_centroide(x1, nuevo_c1, nuevo_c2, \"x1\")\n",
    "asignar_centroide(x2, nuevo_c1, nuevo_c2, \"x2\")\n",
    "asignar_centroide(x3, nuevo_c1, nuevo_c2, \"x3\")\n",
    "asignar_centroide(x4, nuevo_c1, nuevo_c2, \"x4\")\n"
   ]
  },
  {
   "cell_type": "markdown",
   "metadata": {},
   "source": [
    "Grafico-> primera iteracion"
   ]
  },
  {
   "cell_type": "code",
   "execution_count": 58,
   "metadata": {},
   "outputs": [
    {
     "data": {
      "image/png": "[encoded data removed]",
      "text/plain": [
       "<Figure size 600x600 with 1 Axes>"
      ]
     },
     "metadata": {},
     "output_type": "display_data"
    }
   ],
   "source": [
    "asignacion=np.array([0,0,1,1])\n",
    "graficar_clusters(puntos,asignacion,centroides,1)"
   ]
  },
  {
   "cell_type": "markdown",
   "metadata": {},
   "source": [
    "Calculo los nuevos centroides"
   ]
  },
  {
   "cell_type": "code",
   "execution_count": 59,
   "metadata": {},
   "outputs": [
    {
     "name": "stdout",
     "output_type": "stream",
     "text": [
      "Nuevo centroide c1: [1.5 1. ]\n",
      "Nuevo centroide c2: [3.5 4. ]\n"
     ]
    }
   ],
   "source": [
    "grupo1 = np.array([x1, x2])\n",
    "grupo2=np.array([x3,x4])\n",
    "nuevo_c1 = calcular_nuevo_centroide(grupo1)\n",
    "nuevo_c2 = calcular_nuevo_centroide(grupo2)\n",
    "\n",
    "print(\"Nuevo centroide c1:\", nuevo_c1)\n",
    "print(\"Nuevo centroide c2:\", nuevo_c2)\n",
    "centroides=np.array([nuevo_c1,nuevo_c2])"
   ]
  },
  {
   "cell_type": "markdown",
   "metadata": {},
   "source": [
    "Segunda iteracion"
   ]
  },
  {
   "cell_type": "code",
   "execution_count": 16,
   "metadata": {},
   "outputs": [
    {
     "name": "stdout",
     "output_type": "stream",
     "text": [
      "Distancia de x1 a c1: 1.25\n",
      "Distancia de x1 a c2: 18.25\n",
      "x1 se asigna al centroide c1\n",
      "\n",
      "Distancia de x2 a c1: 1.25\n",
      "Distancia de x2 a c2: 10.25\n",
      "x2 se asigna al centroide c1\n",
      "\n",
      "Distancia de x3 a c1: 11.25\n",
      "Distancia de x3 a c2: 0.25\n",
      "x3 se asigna al centroide c2\n",
      "\n",
      "Distancia de x4 a c1: 15.25\n",
      "Distancia de x4 a c2: 0.25\n",
      "x4 se asigna al centroide c2\n",
      "\n"
     ]
    },
    {
     "data": {
      "text/plain": [
       "'c2'"
      ]
     },
     "execution_count": 16,
     "metadata": {},
     "output_type": "execute_result"
    }
   ],
   "source": [
    "# Llamás a la función para cada punto\n",
    "asignar_centroide(x1, nuevo_c1, nuevo_c2, \"x1\")\n",
    "asignar_centroide(x2, nuevo_c1, nuevo_c2, \"x2\")\n",
    "asignar_centroide(x3, nuevo_c1, nuevo_c2, \"x3\")\n",
    "asignar_centroide(x4, nuevo_c1, nuevo_c2, \"x4\")"
   ]
  },
  {
   "cell_type": "markdown",
   "metadata": {},
   "source": [
    "Grafico->segunda iteracion"
   ]
  },
  {
   "cell_type": "code",
   "execution_count": 17,
   "metadata": {},
   "outputs": [
    {
     "data": {
      "image/png": "[encoded data removed]",
      "text/plain": [
       "<Figure size 600x600 with 1 Axes>"
      ]
     },
     "metadata": {},
     "output_type": "display_data"
    }
   ],
   "source": [
    "asignacion=np.array([0,0,1,1])\n",
    "graficar_clusters(puntos,asignacion,centroides,2)"
   ]
  },
  {
   "cell_type": "markdown",
   "metadata": {},
   "source": [
    "Calculo de nuevo el centroide"
   ]
  },
  {
   "cell_type": "code",
   "execution_count": 18,
   "metadata": {},
   "outputs": [
    {
     "name": "stdout",
     "output_type": "stream",
     "text": [
      "Nuevo centroide c1: [1.5 1. ]\n",
      "Nuevo centroide c2: [3.5 4. ]\n"
     ]
    }
   ],
   "source": [
    "grupo1 = np.array([x1, x2])\n",
    "grupo2=np.array([x3,x4])\n",
    "nuevo_c1 = calcular_nuevo_centroide(grupo1)\n",
    "nuevo_c2 = calcular_nuevo_centroide(grupo2)\n",
    "\n",
    "print(\"Nuevo centroide c1:\", nuevo_c1)\n",
    "print(\"Nuevo centroide c2:\", nuevo_c2)\n",
    "centroides=np.array([nuevo_c1,nuevo_c2])"
   ]
  },
  {
   "cell_type": "markdown",
   "metadata": {},
   "source": [
    "Inciso d"
   ]
  },
  {
   "cell_type": "code",
   "execution_count": 62,
   "metadata": {},
   "outputs": [],
   "source": [
    "nuevo_c1=np.array([2,3])\n",
    "nuevo_c2=np.array([2,-1])\n",
    "centroides=np.array([nuevo_c1,nuevo_c2])"
   ]
  },
  {
   "cell_type": "markdown",
   "metadata": {},
   "source": [
    "Primera iteracion"
   ]
  },
  {
   "cell_type": "code",
   "execution_count": 63,
   "metadata": {},
   "outputs": [
    {
     "name": "stdout",
     "output_type": "stream",
     "text": [
      "Distancia de x1 a c1: 9\n",
      "Distancia de x1 a c2: 1\n",
      "x1 se asigna al centroide c2\n",
      "\n",
      "Distancia de x2 a c1: 2\n",
      "Distancia de x2 a c2: 10\n",
      "x2 se asigna al centroide c1\n",
      "\n",
      "Distancia de x3 a c1: 2\n",
      "Distancia de x3 a c2: 26\n",
      "x3 se asigna al centroide c1\n",
      "\n",
      "Distancia de x4 a c1: 5\n",
      "Distancia de x4 a c2: 29\n",
      "x4 se asigna al centroide c1\n",
      "\n"
     ]
    },
    {
     "data": {
      "text/plain": [
       "'c1'"
      ]
     },
     "execution_count": 63,
     "metadata": {},
     "output_type": "execute_result"
    }
   ],
   "source": [
    "asignar_centroide(x1, nuevo_c1, nuevo_c2, \"x1\")\n",
    "asignar_centroide(x2, nuevo_c1, nuevo_c2, \"x2\")\n",
    "asignar_centroide(x3, nuevo_c1, nuevo_c2, \"x3\")\n",
    "asignar_centroide(x4, nuevo_c1, nuevo_c2, \"x4\")"
   ]
  },
  {
   "cell_type": "markdown",
   "metadata": {},
   "source": [
    "Grafico-> primera iteracion"
   ]
  },
  {
   "cell_type": "code",
   "execution_count": 64,
   "metadata": {},
   "outputs": [
    {
     "data": {
      "image/png": "[encoded data removed]",
      "text/plain": [
       "<Figure size 600x600 with 1 Axes>"
      ]
     },
     "metadata": {},
     "output_type": "display_data"
    }
   ],
   "source": [
    "asignacion=np.array([1,0,0,0])\n",
    "graficar_clusters(puntos,asignacion,centroides,1)"
   ]
  },
  {
   "cell_type": "markdown",
   "metadata": {},
   "source": [
    "Calculo los nuevos centroides"
   ]
  },
  {
   "cell_type": "code",
   "execution_count": 65,
   "metadata": {},
   "outputs": [
    {
     "name": "stdout",
     "output_type": "stream",
     "text": [
      "Nuevo centroide c1: [1.5 1. ]\n",
      "Nuevo centroide c2: [3.5 4. ]\n"
     ]
    }
   ],
   "source": [
    "grupo1 = np.array([x1, x2])\n",
    "grupo2=np.array([x3,x4])\n",
    "nuevo_c1 = calcular_nuevo_centroide(grupo1)\n",
    "nuevo_c2 = calcular_nuevo_centroide(grupo2)\n",
    "\n",
    "print(\"Nuevo centroide c1:\", nuevo_c1)\n",
    "print(\"Nuevo centroide c2:\", nuevo_c2)\n",
    "centroides=np.array([nuevo_c1,nuevo_c2])"
   ]
  },
  {
   "cell_type": "markdown",
   "metadata": {},
   "source": [
    "Segunda iteracion"
   ]
  },
  {
   "cell_type": "code",
   "execution_count": 66,
   "metadata": {},
   "outputs": [
    {
     "name": "stdout",
     "output_type": "stream",
     "text": [
      "Distancia de x1 a c1: 1.25\n",
      "Distancia de x1 a c2: 18.25\n",
      "x1 se asigna al centroide c1\n",
      "\n",
      "Distancia de x2 a c1: 1.25\n",
      "Distancia de x2 a c2: 10.25\n",
      "x2 se asigna al centroide c1\n",
      "\n",
      "Distancia de x3 a c1: 11.25\n",
      "Distancia de x3 a c2: 0.25\n",
      "x3 se asigna al centroide c2\n",
      "\n",
      "Distancia de x4 a c1: 15.25\n",
      "Distancia de x4 a c2: 0.25\n",
      "x4 se asigna al centroide c2\n",
      "\n"
     ]
    },
    {
     "data": {
      "text/plain": [
       "'c2'"
      ]
     },
     "execution_count": 66,
     "metadata": {},
     "output_type": "execute_result"
    }
   ],
   "source": [
    "asignar_centroide(x1, nuevo_c1, nuevo_c2, \"x1\")\n",
    "asignar_centroide(x2, nuevo_c1, nuevo_c2, \"x2\")\n",
    "asignar_centroide(x3, nuevo_c1, nuevo_c2, \"x3\")\n",
    "asignar_centroide(x4, nuevo_c1, nuevo_c2, \"x4\")"
   ]
  },
  {
   "cell_type": "markdown",
   "metadata": {},
   "source": [
    "Grafico-> segunda iteracion"
   ]
  },
  {
   "cell_type": "code",
   "execution_count": 69,
   "metadata": {},
   "outputs": [
    {
     "data": {
      "image/png": "[encoded data removed]",
      "text/plain": [
       "<Figure size 600x600 with 1 Axes>"
      ]
     },
     "metadata": {},
     "output_type": "display_data"
    }
   ],
   "source": [
    "asignacion=np.array([0,0,1,1])\n",
    "graficar_clusters(puntos,asignacion,centroides,2)"
   ]
  },
  {
   "cell_type": "markdown",
   "metadata": {},
   "source": [
    "Calculo los nuevos centroides"
   ]
  },
  {
   "cell_type": "code",
   "execution_count": 19,
   "metadata": {},
   "outputs": [
    {
     "name": "stdout",
     "output_type": "stream",
     "text": [
      "Nuevo centroide c1: [1.5 1. ]\n",
      "Nuevo centroide c2: [3.5 4. ]\n"
     ]
    }
   ],
   "source": [
    "grupo1 = np.array([x1, x2])\n",
    "grupo2=np.array([x3,x4])\n",
    "nuevo_c1 = calcular_nuevo_centroide(grupo1)\n",
    "nuevo_c2 = calcular_nuevo_centroide(grupo2)\n",
    "\n",
    "print(\"Nuevo centroide c1:\", nuevo_c1)\n",
    "print(\"Nuevo centroide c2:\", nuevo_c2)\n",
    "centroides=np.array([nuevo_c1,nuevo_c2])"
   ]
  }
 ],
 "metadata": {
  "kernelspec": {
   "display_name": "Python 3",
   "language": "python",
   "name": "python3"
  },
  "language_info": {
   "codemirror_mode": {
    "name": "ipython",
    "version": 3
   },
   "file_extension": ".py",
   "mimetype": "text/x-python",
   "name": "python",
   "nbconvert_exporter": "python",
   "pygments_lexer": "ipython3",
   "version": "3.9.6"
  }
 },
 "nbformat": 4,
 "nbformat_minor": 2
}
